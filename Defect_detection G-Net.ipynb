{
  "nbformat": 4,
  "nbformat_minor": 0,
  "metadata": {
    "colab": {
      "provenance": [],
      "gpuType": "T4"
    },
    "kernelspec": {
      "name": "python3",
      "display_name": "Python 3"
    },
    "language_info": {
      "name": "python"
    },
    "accelerator": "GPU"
  },
  "cells": [
    {
      "cell_type": "markdown",
      "source": [
        " Set up the Kaggle API"
      ],
      "metadata": {
        "id": "_n7xIMy2FmM7"
      }
    },
    {
      "cell_type": "code",
      "execution_count": 1,
      "metadata": {
        "id": "TBdHZQEGf5We"
      },
      "outputs": [],
      "source": [
        "!mkdir -p ~/.kaggle\n",
        "!cp kaggle.json ~/.kaggle/"
      ]
    },
    {
      "cell_type": "markdown",
      "source": [
        "Downloading dataset from kaggle using API"
      ],
      "metadata": {
        "id": "Y69Tx-gQFuvp"
      }
    },
    {
      "cell_type": "code",
      "source": [
        "!kaggle datasets download -d praveen2084/leather-defect-classification"
      ],
      "metadata": {
        "colab": {
          "base_uri": "https://localhost:8080/"
        },
        "id": "j8M1hl-bgfL_",
        "outputId": "60e037d9-0517-4d2c-d00f-20e36a824140"
      },
      "execution_count": 2,
      "outputs": [
        {
          "output_type": "stream",
          "name": "stdout",
          "text": [
            "Warning: Your Kaggle API key is readable by other users on this system! To fix this, you can run 'chmod 600 /root/.kaggle/kaggle.json'\n",
            "Downloading leather-defect-classification.zip to /content\n",
            " 59% 18.0M/30.7M [00:00<00:00, 26.5MB/s]\n",
            "100% 30.7M/30.7M [00:00<00:00, 39.5MB/s]\n"
          ]
        }
      ]
    },
    {
      "cell_type": "markdown",
      "source": [
        "Extracting the zip files of downloaded data"
      ],
      "metadata": {
        "id": "lII6BessF5xW"
      }
    },
    {
      "cell_type": "code",
      "source": [
        "import zipfile\n",
        "zip_ref=zipfile.ZipFile('/content/leather-defect-classification.zip','r')\n",
        "zip_ref.extractall('/content')\n",
        "zip_ref.close()"
      ],
      "metadata": {
        "id": "IZuCX50-g6wr"
      },
      "execution_count": 3,
      "outputs": []
    },
    {
      "cell_type": "markdown",
      "source": [
        "Importing libraries for data preprocessing"
      ],
      "metadata": {
        "id": "nGMHRwctjWpW"
      }
    },
    {
      "cell_type": "code",
      "source": [
        "import os\n",
        "import numpy as np\n",
        "import cv2"
      ],
      "metadata": {
        "id": "MfBWbkzqgqoS"
      },
      "execution_count": 4,
      "outputs": []
    },
    {
      "cell_type": "markdown",
      "source": [
        "Combining 5 different classes of defects as we have to do binary classification ."
      ],
      "metadata": {
        "id": "xFwNRAatjgpm"
      }
    },
    {
      "cell_type": "code",
      "source": [
        "ds=[]\n",
        "categories=[\"Folding marks\",\"Grain off\",\"Growth marks\",\"loose grains\",\"pinhole\"]\n",
        "c=0\n",
        "for category in categories:\n",
        "    path=os.path.join('Leather Defect Classification',category)\n",
        "    label=0\n",
        "    for file in os.listdir(path):\n",
        "          img_path=os.path.join(path,file)\n",
        "          img=cv2.imread(img_path,1)\n",
        "          img=cv2.resize(img,(224,224))\n",
        "          ds.append([img,label])\n"
      ],
      "metadata": {
        "id": "RIIy0yWOh3bE"
      },
      "execution_count": 5,
      "outputs": []
    },
    {
      "cell_type": "code",
      "source": [
        "len(ds)"
      ],
      "metadata": {
        "colab": {
          "base_uri": "https://localhost:8080/"
        },
        "id": "Bn02cM7FkVMp",
        "outputId": "60475248-5b60-4a88-e430-f2bb50a77f9b"
      },
      "execution_count": 6,
      "outputs": [
        {
          "output_type": "execute_result",
          "data": {
            "text/plain": [
              "3000"
            ]
          },
          "metadata": {},
          "execution_count": 6
        }
      ]
    },
    {
      "cell_type": "markdown",
      "source": [
        "Shuffling of elements in ds to avoid biasness"
      ],
      "metadata": {
        "id": "Atnl-edbjxTp"
      }
    },
    {
      "cell_type": "code",
      "source": [
        "import random\n",
        "random.shuffle(ds)"
      ],
      "metadata": {
        "id": "W8BMxo-HkZcP"
      },
      "execution_count": 7,
      "outputs": []
    },
    {
      "cell_type": "code",
      "source": [
        "ds=ds[:800]"
      ],
      "metadata": {
        "id": "54rPovaMkiGK"
      },
      "execution_count": 8,
      "outputs": []
    },
    {
      "cell_type": "markdown",
      "source": [
        "Now we will pick the non defective images"
      ],
      "metadata": {
        "id": "JTma_Wixj42h"
      }
    },
    {
      "cell_type": "code",
      "source": [
        "\n",
        "\n",
        "path2=os.path.join('Leather Defect Classification','non defective')\n",
        "for file in os.listdir(path2):\n",
        "      img_path=os.path.join(path2,file)\n",
        "      img=cv2.imread(img_path,1)\n",
        "      img=cv2.resize(img,(224,224))\n",
        "      ds.append([img,1])"
      ],
      "metadata": {
        "id": "qAVZ5OFykqt6"
      },
      "execution_count": 9,
      "outputs": []
    },
    {
      "cell_type": "code",
      "source": [
        "len(ds)"
      ],
      "metadata": {
        "colab": {
          "base_uri": "https://localhost:8080/"
        },
        "id": "UR8BoOrWlAgj",
        "outputId": "644a1bec-654c-4e1d-e33f-6fddb0ab6996"
      },
      "execution_count": 10,
      "outputs": [
        {
          "output_type": "execute_result",
          "data": {
            "text/plain": [
              "1400"
            ]
          },
          "metadata": {},
          "execution_count": 10
        }
      ]
    },
    {
      "cell_type": "code",
      "source": [
        "random.shuffle(ds)"
      ],
      "metadata": {
        "id": "eJgyfI-kmE1k"
      },
      "execution_count": 11,
      "outputs": []
    },
    {
      "cell_type": "markdown",
      "source": [
        "Dividing the dataset into input and output"
      ],
      "metadata": {
        "id": "cQ3zJ5nHkDPs"
      }
    },
    {
      "cell_type": "code",
      "source": [
        "X=[]\n",
        "Y=[]\n",
        "for i in ds:\n",
        "    X.append(i[0])\n",
        "    Y.append(i[1])"
      ],
      "metadata": {
        "id": "-xTCFDcUmHtE"
      },
      "execution_count": 12,
      "outputs": []
    },
    {
      "cell_type": "code",
      "source": [
        "import numpy as np\n",
        "X=np.array(X)\n",
        "Y=np.array(Y)"
      ],
      "metadata": {
        "id": "wBDLd5plmgUX"
      },
      "execution_count": 13,
      "outputs": []
    },
    {
      "cell_type": "markdown",
      "source": [
        "Normalisation of pixel values of images"
      ],
      "metadata": {
        "id": "exx0drXgkdOu"
      }
    },
    {
      "cell_type": "code",
      "source": [
        "X=X/255"
      ],
      "metadata": {
        "id": "922sgB0hmg_v"
      },
      "execution_count": 14,
      "outputs": []
    },
    {
      "cell_type": "markdown",
      "source": [
        "Splitiing the dataset"
      ],
      "metadata": {
        "id": "NHfzC25hklUd"
      }
    },
    {
      "cell_type": "code",
      "source": [
        "from sklearn.model_selection import train_test_split\n",
        "X_train,X_test,Y_train,Y_test=train_test_split(X,Y,test_size=0.2)"
      ],
      "metadata": {
        "id": "UAnF214_m1ts"
      },
      "execution_count": 15,
      "outputs": []
    },
    {
      "cell_type": "markdown",
      "source": [
        "Importing necessary deep learning libraries"
      ],
      "metadata": {
        "id": "rP9Z9pT7ktja"
      }
    },
    {
      "cell_type": "code",
      "source": [
        "import tensorflow as tf\n",
        "from tensorflow import keras\n",
        "from keras import Sequential\n",
        "from keras.layers import Dense,Conv2D,MaxPooling2D,Flatten,BatchNormalization,Dropout"
      ],
      "metadata": {
        "id": "9Szlce41nHds"
      },
      "execution_count": 17,
      "outputs": []
    },
    {
      "cell_type": "markdown",
      "source": [
        "Loading of GoogleNet"
      ],
      "metadata": {
        "id": "Bg-5UuxFkpUZ"
      }
    },
    {
      "cell_type": "code",
      "source": [
        "model = keras.applications.InceptionV3(weights='imagenet', include_top=False)\n",
        "\n"
      ],
      "metadata": {
        "colab": {
          "base_uri": "https://localhost:8080/"
        },
        "id": "P4DJ6Hv1m74I",
        "outputId": "07d17e8c-2b13-4ecf-b91e-0d413fb266e1"
      },
      "execution_count": 18,
      "outputs": [
        {
          "output_type": "stream",
          "name": "stdout",
          "text": [
            "Downloading data from https://storage.googleapis.com/tensorflow/keras-applications/inception_v3/inception_v3_weights_tf_dim_ordering_tf_kernels_notop.h5\n",
            "87910968/87910968 [==============================] - 1s 0us/step\n"
          ]
        }
      ]
    },
    {
      "cell_type": "markdown",
      "source": [
        "Here we are checking the architecture of GoogleNet"
      ],
      "metadata": {
        "id": "577DZjyYkzZ_"
      }
    },
    {
      "cell_type": "code",
      "source": [
        "model.summary()"
      ],
      "metadata": {
        "id": "LFt6cMD5PKNA"
      },
      "execution_count": null,
      "outputs": []
    },
    {
      "cell_type": "markdown",
      "source": [
        "Freeze the pre-trained layers"
      ],
      "metadata": {
        "id": "7m3DrpyuvjDo"
      }
    },
    {
      "cell_type": "code",
      "source": [
        "for layer in model.layers:\n",
        "    layer.trainable = False\n",
        "\n"
      ],
      "metadata": {
        "id": "bQg5tW9fnO02"
      },
      "execution_count": 20,
      "outputs": []
    },
    {
      "cell_type": "markdown",
      "source": [
        "Adding our own layers here"
      ],
      "metadata": {
        "id": "QhOK8Oo4laTy"
      }
    },
    {
      "cell_type": "code",
      "source": [
        "x = model.output\n",
        "\n",
        "x = keras.layers.GlobalAveragePooling2D()(x)\n",
        "x = Dense(128, activation='relu')(x)\n",
        "predictions =Dense(1, activation='sigmoid')(x)\n",
        "\n"
      ],
      "metadata": {
        "id": "6vuu26M9qtrb"
      },
      "execution_count": 21,
      "outputs": []
    },
    {
      "cell_type": "markdown",
      "source": [
        "Created a new model"
      ],
      "metadata": {
        "id": "6a1r30q3lnfL"
      }
    },
    {
      "cell_type": "code",
      "source": [
        "new_model = keras.models.Model(inputs=model.input, outputs=predictions)"
      ],
      "metadata": {
        "id": "xnG-gzIMqu-m"
      },
      "execution_count": 22,
      "outputs": []
    },
    {
      "cell_type": "markdown",
      "source": [
        "Compilation and fitting of model on our data"
      ],
      "metadata": {
        "id": "GJbioU8yly72"
      }
    },
    {
      "cell_type": "code",
      "source": [
        "new_model.compile(optimizer='adam', loss='binary_crossentropy', metrics=['accuracy'])\n",
        "\n",
        "history=new_model.fit(X_train, Y_train, epochs=10, batch_size=32, validation_data=(X_test, Y_test))"
      ],
      "metadata": {
        "colab": {
          "base_uri": "https://localhost:8080/"
        },
        "id": "dcWNh8azrQ3f",
        "outputId": "dd638a9f-2a0a-43a5-bedc-1d1b64b23b39"
      },
      "execution_count": 23,
      "outputs": [
        {
          "output_type": "stream",
          "name": "stdout",
          "text": [
            "Epoch 1/10\n",
            "35/35 [==============================] - 19s 238ms/step - loss: 0.3246 - accuracy: 0.8491 - val_loss: 0.1516 - val_accuracy: 0.9464\n",
            "Epoch 2/10\n",
            "35/35 [==============================] - 3s 89ms/step - loss: 0.1590 - accuracy: 0.9366 - val_loss: 0.1239 - val_accuracy: 0.9393\n",
            "Epoch 3/10\n",
            "35/35 [==============================] - 3s 90ms/step - loss: 0.1229 - accuracy: 0.9491 - val_loss: 0.1143 - val_accuracy: 0.9571\n",
            "Epoch 4/10\n",
            "35/35 [==============================] - 3s 94ms/step - loss: 0.0975 - accuracy: 0.9670 - val_loss: 0.1319 - val_accuracy: 0.9429\n",
            "Epoch 5/10\n",
            "35/35 [==============================] - 3s 93ms/step - loss: 0.0973 - accuracy: 0.9643 - val_loss: 0.1073 - val_accuracy: 0.9536\n",
            "Epoch 6/10\n",
            "35/35 [==============================] - 3s 91ms/step - loss: 0.0680 - accuracy: 0.9741 - val_loss: 0.0954 - val_accuracy: 0.9571\n",
            "Epoch 7/10\n",
            "35/35 [==============================] - 3s 92ms/step - loss: 0.0654 - accuracy: 0.9732 - val_loss: 0.0673 - val_accuracy: 0.9821\n",
            "Epoch 8/10\n",
            "35/35 [==============================] - 4s 113ms/step - loss: 0.0414 - accuracy: 0.9857 - val_loss: 0.0708 - val_accuracy: 0.9679\n",
            "Epoch 9/10\n",
            "35/35 [==============================] - 3s 92ms/step - loss: 0.0388 - accuracy: 0.9902 - val_loss: 0.0627 - val_accuracy: 0.9714\n",
            "Epoch 10/10\n",
            "35/35 [==============================] - 3s 93ms/step - loss: 0.0291 - accuracy: 0.9946 - val_loss: 0.0584 - val_accuracy: 0.9857\n"
          ]
        }
      ]
    },
    {
      "cell_type": "markdown",
      "source": [
        "Predict the values of test set ."
      ],
      "metadata": {
        "id": "QsmilHgdl8Mi"
      }
    },
    {
      "cell_type": "code",
      "source": [
        "Y_pred=new_model.predict(X_test)"
      ],
      "metadata": {
        "colab": {
          "base_uri": "https://localhost:8080/"
        },
        "id": "9G9u6gbOED5n",
        "outputId": "37015f03-f753-4d30-d92f-d11ec718b468"
      },
      "execution_count": 24,
      "outputs": [
        {
          "output_type": "stream",
          "name": "stdout",
          "text": [
            "9/9 [==============================] - 2s 73ms/step\n"
          ]
        }
      ]
    },
    {
      "cell_type": "markdown",
      "source": [
        "Using threshold of 0.5, make it into binary class"
      ],
      "metadata": {
        "id": "YyGvwKEwmDfw"
      }
    },
    {
      "cell_type": "code",
      "source": [
        "for i in range  (0,len(Y_pred)):\n",
        "  if Y_pred[i]<=0.5:\n",
        "    Y_pred[i]=0\n",
        "  else:\n",
        "    Y_pred[i]=1"
      ],
      "metadata": {
        "id": "km90kzXKhNLY"
      },
      "execution_count": 25,
      "outputs": []
    },
    {
      "cell_type": "markdown",
      "source": [
        "Performance Analysis"
      ],
      "metadata": {
        "id": "wl5qyOXOmLZ5"
      }
    },
    {
      "cell_type": "code",
      "source": [
        "from sklearn.metrics import accuracy_score,precision_score,recall_score\n",
        "\n",
        "accuracy=accuracy_score(Y_pred,Y_test)\n",
        "precision=precision_score(Y_pred,Y_test)\n",
        "recall=recall_score(Y_pred,Y_test)\n",
        "print(\"Accuracy : \",accuracy)\n",
        "print(\"Precision : \",precision)\n",
        "print(\"Recall : \",recall)"
      ],
      "metadata": {
        "colab": {
          "base_uri": "https://localhost:8080/"
        },
        "id": "suB9vNNcEwZh",
        "outputId": "70725fb4-2214-42ca-9e28-115529794b85"
      },
      "execution_count": 26,
      "outputs": [
        {
          "output_type": "stream",
          "name": "stdout",
          "text": [
            "Accuracy :  0.9857142857142858\n",
            "Precision :  0.9655172413793104\n",
            "Recall :  1.0\n"
          ]
        }
      ]
    },
    {
      "cell_type": "markdown",
      "source": [
        "A visual representation of accuracy"
      ],
      "metadata": {
        "id": "2cl4rXADmRUQ"
      }
    },
    {
      "cell_type": "code",
      "source": [
        "import matplotlib.pyplot as plt\n",
        "plt.plot(history.history['accuracy'])"
      ],
      "metadata": {
        "colab": {
          "base_uri": "https://localhost:8080/",
          "height": 448
        },
        "id": "WpLqwfeMr5vK",
        "outputId": "7c9f2c72-1659-4a91-8ca0-7b2d4043d404"
      },
      "execution_count": 27,
      "outputs": [
        {
          "output_type": "execute_result",
          "data": {
            "text/plain": [
              "[<matplotlib.lines.Line2D at 0x7cac988ad390>]"
            ]
          },
          "metadata": {},
          "execution_count": 27
        },
        {
          "output_type": "display_data",
          "data": {
            "text/plain": [
              "<Figure size 640x480 with 1 Axes>"
            ],
            "image/png": "[encoded data removed]"
          },
          "metadata": {}
        }
      ]
    },
    {
      "cell_type": "markdown",
      "source": [
        "Saving the model"
      ],
      "metadata": {
        "id": "y-Nktj8umWrE"
      }
    },
    {
      "cell_type": "code",
      "source": [
        "model.save(\"model/\")"
      ],
      "metadata": {
        "id": "vJ212wSaQ46h",
        "colab": {
          "base_uri": "https://localhost:8080/"
        },
        "outputId": "910b4577-93d0-4eee-ac43-1935d2bfb35b"
      },
      "execution_count": 28,
      "outputs": [
        {
          "output_type": "stream",
          "name": "stderr",
          "text": [
            "WARNING:tensorflow:Compiled the loaded model, but the compiled metrics have yet to be built. `model.compile_metrics` will be empty until you train or evaluate the model.\n"
          ]
        }
      ]
    },
    {
      "cell_type": "code",
      "source": [],
      "metadata": {
        "id": "3UoIHd0SwuuQ"
      },
      "execution_count": null,
      "outputs": []
    }
  ]
}